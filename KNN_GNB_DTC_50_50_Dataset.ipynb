{
 "cells": [
  {
   "cell_type": "code",
   "execution_count": 1,
   "metadata": {
    "id": "hNg1kEdePv6n"
   },
   "outputs": [],
   "source": [
    "\n",
    "import numpy as np\n",
    "import pandas as pd\n",
    "from sklearn.neighbors import KNeighborsClassifier\n",
    "from sklearn import tree\n",
    "from sklearn.naive_bayes import GaussianNB\n",
    "from sklearn.model_selection import cross_validate\n",
    "from sklearn import metrics"
   ]
  },
  {
   "cell_type": "markdown",
   "metadata": {
    "id": "mL8xGPXJU65Z"
   },
   "source": [
    "# Format Data"
   ]
  },
  {
   "cell_type": "code",
   "execution_count": 2,
   "metadata": {
    "id": "ssiJC7-pU6jA"
   },
   "outputs": [],
   "source": [
    "df = pd.read_csv(r\"C:\\Users\\I059953\\Desktop\\Hate speech\\Hate speech\\hatespeech_data_tokenized (1).csv\").to_numpy()\n",
    "npdata = df[:, 1]\n",
    "nptarget = df[:, -1]"
   ]
  },
  {
   "cell_type": "code",
   "execution_count": 3,
   "metadata": {
    "colab": {
     "base_uri": "https://localhost:8080/"
    },
    "id": "n9Jnl1AqWpnp",
    "outputId": "d63ced6b-f5d5-4c1e-f3fa-ddb3c7df6272"
   },
   "outputs": [
    {
     "name": "stdout",
     "output_type": "stream",
     "text": [
      "You have  24783 training instances tweets\n",
      "You have  24783 training instances labels\n",
      "You have  34 features\n"
     ]
    }
   ],
   "source": [
    "data = []\n",
    "for i in range(npdata.shape[0]):\n",
    "  s = npdata[i]\n",
    "  s = s[1:-1]\n",
    "  l = s.split(',')\n",
    "  ll = []\n",
    "  for i in l:\n",
    "    ll.append(int(i))\n",
    "  data.append(ll)\n",
    "numpy_array_for_data = np.array(data)\n",
    "print(\"You have \", numpy_array_for_data.shape[0], \"training instances tweets\")\n",
    "print(\"You have \", nptarget.shape[0], \"training instances labels\")\n",
    "print(\"You have \", numpy_array_for_data.shape[1], \"features\")"
   ]
  },
  {
   "cell_type": "code",
   "execution_count": 4,
   "metadata": {
    "colab": {
     "base_uri": "https://localhost:8080/"
    },
    "id": "6ppHhwfkRWBT",
    "outputId": "91a0945a-e395-47a5-86e1-26a16a9762ce"
   },
   "outputs": [
    {
     "name": "stdout",
     "output_type": "stream",
     "text": [
      "You have  24783 training instances labels\n"
     ]
    }
   ],
   "source": [
    "updated_target = []\n",
    "for i in nptarget:\n",
    "  if i == 0:\n",
    "    updated_target.append(1)\n",
    "  else:\n",
    "    updated_target.append(0)\n",
    "numpy_array_for_target = np.array(updated_target)\n",
    "print(\"You have \", numpy_array_for_target.shape[0], \"training instances labels\")"
   ]
  },
  {
   "cell_type": "code",
   "execution_count": 5,
   "metadata": {
    "colab": {
     "base_uri": "https://localhost:8080/"
    },
    "id": "GaxI1zQDTt6U",
    "outputId": "2f9d4b60-52e9-4442-a5b3-1df0dfb9d381"
   },
   "outputs": [
    {
     "name": "stdout",
     "output_type": "stream",
     "text": [
      "1430\n"
     ]
    }
   ],
   "source": [
    "from IPython.utils.text import num_ini_spaces\n",
    "num_of_ones = 0\n",
    "for i in numpy_array_for_target:\n",
    "  if i == 1:\n",
    "    num_of_ones += 1\n",
    "print(num_of_ones)"
   ]
  },
  {
   "cell_type": "code",
   "execution_count": 6,
   "metadata": {
    "colab": {
     "base_uri": "https://localhost:8080/"
    },
    "id": "fSlggFwQTYaD",
    "outputId": "94bc2771-ed17-40fd-f0f9-8e13f79c4432"
   },
   "outputs": [
    {
     "name": "stdout",
     "output_type": "stream",
     "text": [
      "[[    0     0     0 ...     5    52    55]\n",
      " [    0     0     0 ...     5   552   540]\n",
      " [    0     0     0 ...  1082    75    45]\n",
      " ...\n",
      " [    0     0     0 ...   357    30   284]\n",
      " [    0     0     0 ...  1863     7  1348]\n",
      " [    0     0     0 ...   116     2 24202]]\n",
      " \n",
      "[0 0 0 ... 0 0 0]\n"
     ]
    }
   ],
   "source": [
    "print(numpy_array_for_data)\n",
    "print(\" \")\n",
    "print(numpy_array_for_target)"
   ]
  },
  {
   "cell_type": "code",
   "execution_count": 7,
   "metadata": {
    "colab": {
     "base_uri": "https://localhost:8080/"
    },
    "id": "vN--ejilWnAs",
    "outputId": "1b98931f-d1a1-4c28-e570-5b60eaae9e97"
   },
   "outputs": [
    {
     "name": "stdout",
     "output_type": "stream",
     "text": [
      "0.5\n"
     ]
    }
   ],
   "source": [
    "half_half_data = []\n",
    "half_half_taget = []\n",
    "# ramdomly populate array with 1430 zero labels\n",
    "while len(half_half_data) != 1430:\n",
    "  idx = np.random.randint(0,24783)\n",
    "  if (numpy_array_for_target[idx] == 0):\n",
    "    half_half_data.append(numpy_array_for_data[idx])\n",
    "    half_half_taget.append(numpy_array_for_target[idx])\n",
    "# populate array with the 1 labels\n",
    "for idx in range(24783):\n",
    "  if (numpy_array_for_target[idx] == 1):\n",
    "    half_half_data.append(numpy_array_for_data[idx])\n",
    "    half_half_taget.append(numpy_array_for_target[idx])\n",
    "\n",
    "numpy_half_half_data = np.array(half_half_data)\n",
    "numpy_half_half_target = np.array(half_half_taget)\n",
    "\n",
    "num_of_ones = 0\n",
    "for i in numpy_half_half_target:\n",
    "  if i == 1:\n",
    "    num_of_ones += 1\n",
    "print(num_of_ones / len(numpy_half_half_target))"
   ]
  },
  {
   "cell_type": "code",
   "execution_count": 8,
   "metadata": {
    "colab": {
     "base_uri": "https://localhost:8080/"
    },
    "id": "k4TXgxzcbFOv",
    "outputId": "d01e1431-c130-48e8-cccc-6a3a786e602b"
   },
   "outputs": [
    {
     "name": "stderr",
     "output_type": "stream",
     "text": [
      "C:\\Users\\I059953\\Anaconda3\\lib\\site-packages\\sklearn\\neighbors\\_classification.py:228: FutureWarning: Unlike other reduction functions (e.g. `skew`, `kurtosis`), the default behavior of `mode` typically preserves the axis it acts along. In SciPy 1.11.0, this behavior will change: the default value of `keepdims` will become False, the `axis` over which the statistic is taken will be eliminated, and the value None will no longer be accepted. Set `keepdims` to True or False to avoid this warning.\n",
      "  mode, _ = stats.mode(_y[neigh_ind, k], axis=1)\n",
      "C:\\Users\\I059953\\Anaconda3\\lib\\site-packages\\sklearn\\neighbors\\_classification.py:228: FutureWarning: Unlike other reduction functions (e.g. `skew`, `kurtosis`), the default behavior of `mode` typically preserves the axis it acts along. In SciPy 1.11.0, this behavior will change: the default value of `keepdims` will become False, the `axis` over which the statistic is taken will be eliminated, and the value None will no longer be accepted. Set `keepdims` to True or False to avoid this warning.\n",
      "  mode, _ = stats.mode(_y[neigh_ind, k], axis=1)\n",
      "C:\\Users\\I059953\\Anaconda3\\lib\\site-packages\\sklearn\\neighbors\\_classification.py:228: FutureWarning: Unlike other reduction functions (e.g. `skew`, `kurtosis`), the default behavior of `mode` typically preserves the axis it acts along. In SciPy 1.11.0, this behavior will change: the default value of `keepdims` will become False, the `axis` over which the statistic is taken will be eliminated, and the value None will no longer be accepted. Set `keepdims` to True or False to avoid this warning.\n",
      "  mode, _ = stats.mode(_y[neigh_ind, k], axis=1)\n",
      "C:\\Users\\I059953\\Anaconda3\\lib\\site-packages\\sklearn\\neighbors\\_classification.py:228: FutureWarning: Unlike other reduction functions (e.g. `skew`, `kurtosis`), the default behavior of `mode` typically preserves the axis it acts along. In SciPy 1.11.0, this behavior will change: the default value of `keepdims` will become False, the `axis` over which the statistic is taken will be eliminated, and the value None will no longer be accepted. Set `keepdims` to True or False to avoid this warning.\n",
      "  mode, _ = stats.mode(_y[neigh_ind, k], axis=1)\n",
      "C:\\Users\\I059953\\Anaconda3\\lib\\site-packages\\sklearn\\neighbors\\_classification.py:228: FutureWarning: Unlike other reduction functions (e.g. `skew`, `kurtosis`), the default behavior of `mode` typically preserves the axis it acts along. In SciPy 1.11.0, this behavior will change: the default value of `keepdims` will become False, the `axis` over which the statistic is taken will be eliminated, and the value None will no longer be accepted. Set `keepdims` to True or False to avoid this warning.\n",
      "  mode, _ = stats.mode(_y[neigh_ind, k], axis=1)\n"
     ]
    },
    {
     "name": "stdout",
     "output_type": "stream",
     "text": [
      "--- Naive Bayes Classifier --- \n",
      "\n",
      "fit_time 0.011072778701782226\n",
      "score_time 0.006533575057983398\n",
      "test_accuracy 0.06988665070046304\n",
      "test_precision 0.05761735678316684\n",
      "test_recall 0.9846153846153847\n",
      "test_f1 0.10886407437220522\n",
      "\n",
      "\n",
      "--- KNN --- \n",
      "\n",
      "fit_time 0.003997516632080078\n",
      "score_time 2.1613386154174803\n",
      "test_accuracy 0.932817509028004\n",
      "test_precision 0.024366226691808088\n",
      "test_recall 0.008391608391608392\n",
      "test_f1 0.012302543507362785\n",
      "\n",
      "\n",
      "--- Decision Tree Classifier --- \n",
      "\n",
      "fit_time 0.3469799041748047\n",
      "score_time 0.006596946716308593\n",
      "test_accuracy 0.8811289112192133\n",
      "test_precision 0.08643293621652427\n",
      "test_recall 0.11328671328671329\n",
      "test_f1 0.09696902994640155\n",
      "\n",
      "\n"
     ]
    }
   ],
   "source": [
    "scoring_metrics = ['accuracy', 'precision', 'recall', 'f1']\n",
    "gnb = GaussianNB()\n",
    "knn = KNeighborsClassifier()\n",
    "dtc = tree.DecisionTreeClassifier()\n",
    "\n",
    "\n",
    "gnb_scores = cross_validate(gnb, numpy_array_for_data, numpy_array_for_target, cv=5, scoring=scoring_metrics)\n",
    "knn_scores = cross_validate(knn, numpy_array_for_data, numpy_array_for_target, cv=5, scoring=scoring_metrics)\n",
    "dtc_scores = cross_validate(dtc, numpy_array_for_data, numpy_array_for_target, cv=5, scoring=scoring_metrics)\n",
    "\n",
    "print(\"---\", \"Naive Bayes Classifier\", \"---\", '\\n')\n",
    "for score_name, score_value in gnb_scores.items():\n",
    "    print(score_name, np.average(score_value))\n",
    "print('\\n')\n",
    "\n",
    "\n",
    "print(\"---\", \"KNN\", \"---\", '\\n')\n",
    "for score_name, score_value in knn_scores.items():\n",
    "    print(score_name, np.average(score_value))\n",
    "print('\\n')\n",
    "\n",
    "print(\"---\", \"Decision Tree Classifier\", \"---\", '\\n')\n",
    "for score_name, score_value in dtc_scores.items():\n",
    "    print(score_name, np.average(score_value))\n",
    "print('\\n')\n",
    "\n"
   ]
  },
  {
   "cell_type": "code",
   "execution_count": 9,
   "metadata": {
    "colab": {
     "base_uri": "https://localhost:8080/"
    },
    "id": "frR4qFdXZFQz",
    "outputId": "6b795cb7-05ba-4478-b989-886e762d8391"
   },
   "outputs": [
    {
     "name": "stderr",
     "output_type": "stream",
     "text": [
      "C:\\Users\\I059953\\Anaconda3\\lib\\site-packages\\sklearn\\neighbors\\_classification.py:228: FutureWarning: Unlike other reduction functions (e.g. `skew`, `kurtosis`), the default behavior of `mode` typically preserves the axis it acts along. In SciPy 1.11.0, this behavior will change: the default value of `keepdims` will become False, the `axis` over which the statistic is taken will be eliminated, and the value None will no longer be accepted. Set `keepdims` to True or False to avoid this warning.\n",
      "  mode, _ = stats.mode(_y[neigh_ind, k], axis=1)\n",
      "C:\\Users\\I059953\\Anaconda3\\lib\\site-packages\\sklearn\\neighbors\\_classification.py:228: FutureWarning: Unlike other reduction functions (e.g. `skew`, `kurtosis`), the default behavior of `mode` typically preserves the axis it acts along. In SciPy 1.11.0, this behavior will change: the default value of `keepdims` will become False, the `axis` over which the statistic is taken will be eliminated, and the value None will no longer be accepted. Set `keepdims` to True or False to avoid this warning.\n",
      "  mode, _ = stats.mode(_y[neigh_ind, k], axis=1)\n",
      "C:\\Users\\I059953\\Anaconda3\\lib\\site-packages\\sklearn\\neighbors\\_classification.py:228: FutureWarning: Unlike other reduction functions (e.g. `skew`, `kurtosis`), the default behavior of `mode` typically preserves the axis it acts along. In SciPy 1.11.0, this behavior will change: the default value of `keepdims` will become False, the `axis` over which the statistic is taken will be eliminated, and the value None will no longer be accepted. Set `keepdims` to True or False to avoid this warning.\n",
      "  mode, _ = stats.mode(_y[neigh_ind, k], axis=1)\n",
      "C:\\Users\\I059953\\Anaconda3\\lib\\site-packages\\sklearn\\neighbors\\_classification.py:228: FutureWarning: Unlike other reduction functions (e.g. `skew`, `kurtosis`), the default behavior of `mode` typically preserves the axis it acts along. In SciPy 1.11.0, this behavior will change: the default value of `keepdims` will become False, the `axis` over which the statistic is taken will be eliminated, and the value None will no longer be accepted. Set `keepdims` to True or False to avoid this warning.\n",
      "  mode, _ = stats.mode(_y[neigh_ind, k], axis=1)\n",
      "C:\\Users\\I059953\\Anaconda3\\lib\\site-packages\\sklearn\\neighbors\\_classification.py:228: FutureWarning: Unlike other reduction functions (e.g. `skew`, `kurtosis`), the default behavior of `mode` typically preserves the axis it acts along. In SciPy 1.11.0, this behavior will change: the default value of `keepdims` will become False, the `axis` over which the statistic is taken will be eliminated, and the value None will no longer be accepted. Set `keepdims` to True or False to avoid this warning.\n",
      "  mode, _ = stats.mode(_y[neigh_ind, k], axis=1)\n"
     ]
    },
    {
     "name": "stdout",
     "output_type": "stream",
     "text": [
      "--- Naive Bayes Classifier --- \n",
      "\n",
      "fit_time 0.002202129364013672\n",
      "score_time 0.0024600505828857424\n",
      "test_accuracy 0.49370629370629376\n",
      "test_precision 0.48034733444864786\n",
      "test_recall 0.7755244755244755\n",
      "test_f1 0.5389399898499817\n",
      "\n",
      "\n",
      "--- KNN --- \n",
      "\n",
      "fit_time 0.0007985115051269531\n",
      "score_time 0.0431943416595459\n",
      "test_accuracy 0.4765734265734266\n",
      "test_precision 0.4741925815843942\n",
      "test_recall 0.4377622377622378\n",
      "test_f1 0.4545497779195318\n",
      "\n",
      "\n",
      "--- Decision Tree Classifier --- \n",
      "\n",
      "fit_time 0.032297372817993164\n",
      "score_time 0.003227567672729492\n",
      "test_accuracy 0.5181818181818182\n",
      "test_precision 0.5186371754507059\n",
      "test_recall 0.5006993006993007\n",
      "test_f1 0.5092374241219295\n",
      "\n",
      "\n"
     ]
    }
   ],
   "source": [
    "scoring_metrics = ['accuracy', 'precision', 'recall', 'f1']\n",
    "gnb = GaussianNB()\n",
    "knn = KNeighborsClassifier()\n",
    "dtc = tree.DecisionTreeClassifier()\n",
    "\n",
    "\n",
    "gnb_scores = cross_validate(gnb, numpy_half_half_data, numpy_half_half_target, cv=5, scoring=scoring_metrics)\n",
    "knn_scores = cross_validate(knn, numpy_half_half_data, numpy_half_half_target, cv=5, scoring=scoring_metrics)\n",
    "dtc_scores = cross_validate(dtc, numpy_half_half_data, numpy_half_half_target, cv=5, scoring=scoring_metrics)\n",
    "\n",
    "print(\"---\", \"Naive Bayes Classifier\", \"---\", '\\n')\n",
    "for score_name, score_value in gnb_scores.items():\n",
    "    print(score_name, np.average(score_value))\n",
    "print('\\n')\n",
    "\n",
    "\n",
    "print(\"---\", \"KNN\", \"---\", '\\n')\n",
    "for score_name, score_value in knn_scores.items():\n",
    "    print(score_name, np.average(score_value))\n",
    "print('\\n')\n",
    "\n",
    "print(\"---\", \"Decision Tree Classifier\", \"---\", '\\n')\n",
    "for score_name, score_value in dtc_scores.items():\n",
    "    print(score_name, np.average(score_value))\n",
    "print('\\n')"
   ]
  },
  {
   "cell_type": "code",
   "execution_count": null,
   "metadata": {},
   "outputs": [],
   "source": []
  }
 ],
 "metadata": {
  "colab": {
   "provenance": []
  },
  "kernelspec": {
   "display_name": "Python 3 (ipykernel)",
   "language": "python",
   "name": "python3"
  },
  "language_info": {
   "codemirror_mode": {
    "name": "ipython",
    "version": 3
   },
   "file_extension": ".py",
   "mimetype": "text/x-python",
   "name": "python",
   "nbconvert_exporter": "python",
   "pygments_lexer": "ipython3",
   "version": "3.9.13"
  }
 },
 "nbformat": 4,
 "nbformat_minor": 1
}
