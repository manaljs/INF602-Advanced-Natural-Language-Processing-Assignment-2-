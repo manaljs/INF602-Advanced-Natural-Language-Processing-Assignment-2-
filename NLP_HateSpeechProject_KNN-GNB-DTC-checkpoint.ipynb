{
 "cells": [
  {
   "cell_type": "code",
   "execution_count": 1,
   "metadata": {
    "id": "hNg1kEdePv6n"
   },
   "outputs": [],
   "source": [
    "\n",
    "import numpy as np\n",
    "import pandas as pd\n",
    "from sklearn.neighbors import KNeighborsClassifier\n",
    "from sklearn import tree\n",
    "from sklearn.naive_bayes import GaussianNB\n",
    "from sklearn.model_selection import cross_validate\n",
    "from sklearn import metrics"
   ]
  },
  {
   "cell_type": "code",
   "execution_count": 2,
   "metadata": {
    "id": "ssiJC7-pU6jA"
   },
   "outputs": [],
   "source": [
    "df = pd.read_csv(r\"C:\\Users\\I059953\\Desktop\\Hate speech\\Hate speech\\hatespeech_data_tokenized (1).csv\").to_numpy()\n",
    "npdata = df[:, 1]\n",
    "nptarget = df[:, -1]"
   ]
  },
  {
   "cell_type": "code",
   "execution_count": 3,
   "metadata": {
    "colab": {
     "base_uri": "https://localhost:8080/"
    },
    "id": "n9Jnl1AqWpnp",
    "outputId": "487e315b-82ed-45c7-d238-5e2fdc449af7"
   },
   "outputs": [
    {
     "name": "stdout",
     "output_type": "stream",
     "text": [
      "You have  24783 training instances tweets\n",
      "You have  24783 training instances labels\n",
      "You have  34 features\n"
     ]
    }
   ],
   "source": [
    "data = []\n",
    "for i in range(npdata.shape[0]):\n",
    "  s = npdata[i]\n",
    "  s = s[1:-1]\n",
    "  l = s.split(',')\n",
    "  ll = []\n",
    "  for i in l:\n",
    "    ll.append(int(i))\n",
    "  data.append(ll)\n",
    "numpy_array_for_data = np.array(data)\n",
    "print(\"You have \", numpy_array_for_data.shape[0], \"training instances tweets\")\n",
    "print(\"You have \", nptarget.shape[0], \"training instances labels\")\n",
    "print(\"You have \", numpy_array_for_data.shape[1], \"features\")"
   ]
  },
  {
   "cell_type": "code",
   "execution_count": 4,
   "metadata": {
    "colab": {
     "base_uri": "https://localhost:8080/"
    },
    "id": "6ppHhwfkRWBT",
    "outputId": "12d57f75-37d7-4b27-f250-b685460760a9"
   },
   "outputs": [
    {
     "name": "stdout",
     "output_type": "stream",
     "text": [
      "You have  24783 training instances labels\n"
     ]
    }
   ],
   "source": [
    "updated_target = []\n",
    "for i in nptarget:\n",
    "  if i == 0:\n",
    "    updated_target.append(1)\n",
    "  else:\n",
    "    updated_target.append(0)\n",
    "numpy_array_for_target = np.array(updated_target)\n",
    "print(\"You have \", numpy_array_for_target.shape[0], \"training instances labels\")"
   ]
  },
  {
   "cell_type": "code",
   "execution_count": null,
   "metadata": {},
   "outputs": [],
   "source": []
  },
  {
   "cell_type": "code",
   "execution_count": 5,
   "metadata": {
    "colab": {
     "base_uri": "https://localhost:8080/"
    },
    "id": "GaxI1zQDTt6U",
    "outputId": "95233c67-42f6-4324-e1a8-751bf1602bf2"
   },
   "outputs": [
    {
     "name": "stdout",
     "output_type": "stream",
     "text": [
      "0.9422991566799822\n"
     ]
    }
   ],
   "source": [
    "from IPython.utils.text import num_ini_spaces\n",
    "num_of_ones = 0\n",
    "for i in numpy_array_for_target:\n",
    "  if i == 1:\n",
    "    num_of_ones += 1\n",
    "print(1 - (num_of_ones / 24783))"
   ]
  },
  {
   "cell_type": "code",
   "execution_count": 6,
   "metadata": {
    "colab": {
     "base_uri": "https://localhost:8080/"
    },
    "id": "fSlggFwQTYaD",
    "outputId": "94bc2771-ed17-40fd-f0f9-8e13f79c4432"
   },
   "outputs": [
    {
     "name": "stdout",
     "output_type": "stream",
     "text": [
      "[[    0     0     0 ...     5    52    55]\n",
      " [    0     0     0 ...     5   552   540]\n",
      " [    0     0     0 ...  1082    75    45]\n",
      " ...\n",
      " [    0     0     0 ...   357    30   284]\n",
      " [    0     0     0 ...  1863     7  1348]\n",
      " [    0     0     0 ...   116     2 24202]]\n",
      " \n",
      "[0 0 0 ... 0 0 0]\n"
     ]
    }
   ],
   "source": [
    "print(numpy_array_for_data)\n",
    "print(\" \")\n",
    "print(numpy_array_for_target)"
   ]
  },
  {
   "cell_type": "markdown",
   "metadata": {
    "id": "XzXQp793TCNo"
   },
   "source": [
    "# Naive Bayes, KNN, Decision Tree"
   ]
  },
  {
   "cell_type": "code",
   "execution_count": null,
   "metadata": {
    "colab": {
     "base_uri": "https://localhost:8080/"
    },
    "id": "k4TXgxzcbFOv",
    "outputId": "d01e1431-c130-48e8-cccc-6a3a786e602b"
   },
   "outputs": [
    {
     "name": "stderr",
     "output_type": "stream",
     "text": [
      "C:\\Users\\I059953\\Anaconda3\\lib\\site-packages\\sklearn\\neighbors\\_classification.py:228: FutureWarning: Unlike other reduction functions (e.g. `skew`, `kurtosis`), the default behavior of `mode` typically preserves the axis it acts along. In SciPy 1.11.0, this behavior will change: the default value of `keepdims` will become False, the `axis` over which the statistic is taken will be eliminated, and the value None will no longer be accepted. Set `keepdims` to True or False to avoid this warning.\n",
      "  mode, _ = stats.mode(_y[neigh_ind, k], axis=1)\n",
      "C:\\Users\\I059953\\Anaconda3\\lib\\site-packages\\sklearn\\neighbors\\_classification.py:228: FutureWarning: Unlike other reduction functions (e.g. `skew`, `kurtosis`), the default behavior of `mode` typically preserves the axis it acts along. In SciPy 1.11.0, this behavior will change: the default value of `keepdims` will become False, the `axis` over which the statistic is taken will be eliminated, and the value None will no longer be accepted. Set `keepdims` to True or False to avoid this warning.\n",
      "  mode, _ = stats.mode(_y[neigh_ind, k], axis=1)\n",
      "C:\\Users\\I059953\\Anaconda3\\lib\\site-packages\\sklearn\\neighbors\\_classification.py:228: FutureWarning: Unlike other reduction functions (e.g. `skew`, `kurtosis`), the default behavior of `mode` typically preserves the axis it acts along. In SciPy 1.11.0, this behavior will change: the default value of `keepdims` will become False, the `axis` over which the statistic is taken will be eliminated, and the value None will no longer be accepted. Set `keepdims` to True or False to avoid this warning.\n",
      "  mode, _ = stats.mode(_y[neigh_ind, k], axis=1)\n",
      "C:\\Users\\I059953\\Anaconda3\\lib\\site-packages\\sklearn\\neighbors\\_classification.py:228: FutureWarning: Unlike other reduction functions (e.g. `skew`, `kurtosis`), the default behavior of `mode` typically preserves the axis it acts along. In SciPy 1.11.0, this behavior will change: the default value of `keepdims` will become False, the `axis` over which the statistic is taken will be eliminated, and the value None will no longer be accepted. Set `keepdims` to True or False to avoid this warning.\n",
      "  mode, _ = stats.mode(_y[neigh_ind, k], axis=1)\n"
     ]
    }
   ],
   "source": [
    "scoring_metrics = ['accuracy', 'precision', 'recall', 'f1']\n",
    "gnb = GaussianNB()\n",
    "knn = KNeighborsClassifier()\n",
    "dtc = tree.DecisionTreeClassifier()\n",
    "\n",
    "\n",
    "gnb_scores = cross_validate(gnb, numpy_array_for_data, numpy_array_for_target, cv=5, scoring=scoring_metrics)\n",
    "knn_scores = cross_validate(knn, numpy_array_for_data, numpy_array_for_target, cv=5, scoring=scoring_metrics)\n",
    "dtc_scores = cross_validate(dtc, numpy_array_for_data, numpy_array_for_target, cv=5, scoring=scoring_metrics)\n",
    "\n",
    "print(\"---\", \"Naive Bayes Classifier\", \"---\", '\\n')\n",
    "for score_name, score_value in gnb_scores.items():\n",
    "    print(score_name, np.average(score_value))\n",
    "print('\\n')\n",
    "\n",
    "\n",
    "print(\"---\", \"KNN\", \"---\", '\\n')\n",
    "for score_name, score_value in knn_scores.items():\n",
    "    print(score_name, np.average(score_value))\n",
    "print('\\n')\n",
    "\n",
    "print(\"---\", \"Decision Tree Classifier\", \"---\", '\\n')\n",
    "for score_name, score_value in dtc_scores.items():\n",
    "    print(score_name, np.average(score_value))\n",
    "print('\\n')\n",
    "\n"
   ]
  },
  {
   "cell_type": "code",
   "execution_count": null,
   "metadata": {},
   "outputs": [],
   "source": []
  }
 ],
 "metadata": {
  "colab": {
   "provenance": []
  },
  "kernelspec": {
   "display_name": "Python 3 (ipykernel)",
   "language": "python",
   "name": "python3"
  },
  "language_info": {
   "codemirror_mode": {
    "name": "ipython",
    "version": 3
   },
   "file_extension": ".py",
   "mimetype": "text/x-python",
   "name": "python",
   "nbconvert_exporter": "python",
   "pygments_lexer": "ipython3",
   "version": "3.9.13"
  }
 },
 "nbformat": 4,
 "nbformat_minor": 1
}
